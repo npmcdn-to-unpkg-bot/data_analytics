{
 "cells": [
  {
   "cell_type": "code",
   "execution_count": 1,
   "metadata": {
    "collapsed": false
   },
   "outputs": [],
   "source": [
    "%matplotlib inline\n",
    "import numpy as np\n",
    "import pandas as pd\n",
    "pd.set_option('display.max_rows', 200)\n",
    "pd.set_option('max_colwidth',200)\n",
    "import os\n",
    "import matplotlib.pyplot as plt\n",
    "\n",
    "colors= {\n",
    "'aliceblue':            '#F0F8FF',\n",
    "'aqua':                 '#00FFFF',\n",
    "'azure':                '#F0FFFF',\n",
    "'beige':                '#F5F5DC',\n",
    "'bisque':               '#FFE4C4',\n",
    "'black':                '#000000',\n",
    "'blanchedalmond':       '#FFEBCD',\n",
    "'blue':                 '#0000FF',\n",
    "'blueviolet':           '#8A2BE2',\n",
    "'brown':                '#A52A2A',\n",
    "'burlywood':            '#DEB887',\n",
    "'cadetblue':            '#5F9EA0',\n",
    "'chartreuse':           '#7FFF00',\n",
    "'chocolate':            '#D2691E',\n",
    "'coral':                '#FF7F50',\n",
    "'cornflowerblue':       '#6495ED',\n",
    "'cornsilk':             '#FFF8DC',\n",
    "'crimson':              '#DC143C',\n",
    "'cyan':                 '#00FFFF',\n",
    "'darkblue':             '#00008B',\n",
    "'darkcyan':             '#008B8B',\n",
    "'darkgoldenrod':        '#B8860B',\n",
    "'darkgray':             '#A9A9A9',\n",
    "'darkgreen':            '#006400',\n",
    "'darkkhaki':            '#BDB76B',\n",
    "'darkmagenta':          '#8B008B',\n",
    "'darkolivegreen':       '#556B2F',\n",
    "'darkorange':           '#FF8C00',\n",
    "'darkorchid':           '#9932CC',\n",
    "'darkred':              '#8B0000',\n",
    "'darksalmon':           '#E9967A',\n",
    "'darkseagreen':         '#8FBC8F',\n",
    "'darkslateblue':        '#483D8B',\n",
    "'darkslategray':        '#2F4F4F',\n",
    "'darkturquoise':        '#00CED1',\n",
    "'darkviolet':           '#9400D3',\n",
    "'deeppink':             '#FF1493',\n",
    "'deepskyblue':          '#00BFFF',\n",
    "'dimgray':              '#696969',\n",
    "'dodgerblue':           '#1E90FF',\n",
    "'firebrick':            '#B22222',\n",
    "'floralwhite':          '#FFFAF0',\n",
    "'forestgreen':          '#228B22',\n",
    "'fuchsia':              '#FF00FF',\n",
    "'gainsboro':            '#DCDCDC',\n",
    "'ghostwhite':           '#F8F8FF',\n",
    "'gold':                 '#FFD700',\n",
    "'goldenrod':            '#DAA520',\n",
    "'gray':                 '#808080',\n",
    "'green':                '#008000',\n",
    "'greenyellow':          '#ADFF2F',\n",
    "'honeydew':             '#F0FFF0',\n",
    "'hotpink':              '#FF69B4',\n",
    "'indianred':            '#CD5C5C',\n",
    "'indigo':               '#4B0082',\n",
    "'ivory':                '#FFFFF0',\n",
    "'khaki':                '#F0E68C',\n",
    "'lavender':             '#E6E6FA',\n",
    "'lavenderblush':        '#FFF0F5',\n",
    "'lawngreen':            '#7CFC00',\n",
    "'lemonchiffon':         '#FFFACD',\n",
    "'lightblue':            '#ADD8E6',\n",
    "'lightcoral':           '#F08080',\n",
    "'lightcyan':            '#E0FFFF',\n",
    "'lightgoldenrodyellow': '#FAFAD2',\n",
    "'lightgreen':           '#90EE90',\n",
    "'lightgray':            '#D3D3D3',\n",
    "'lightpink':            '#FFB6C1',\n",
    "'lightsalmon':          '#FFA07A',\n",
    "'lightseagreen':        '#20B2AA',\n",
    "'lightskyblue':         '#87CEFA',\n",
    "'lightslategray':       '#778899',\n",
    "'lightsteelblue':       '#B0C4DE',\n",
    "'lightyellow':          '#FFFFE0',\n",
    "'lime':                 '#00FF00',\n",
    "'limegreen':            '#32CD32',\n",
    "'linen':                '#FAF0E6',\n",
    "'magenta':              '#FF00FF',\n",
    "'maroon':               '#800000',\n",
    "'mediumaquamarine':     '#66CDAA',\n",
    "'mediumblue':           '#0000CD',\n",
    "'mediumorchid':         '#BA55D3',\n",
    "'mediumpurple':         '#9370DB',\n",
    "'mediumseagreen':       '#3CB371',\n",
    "'mediumslateblue':      '#7B68EE',\n",
    "'mediumspringgreen':    '#00FA9A',\n",
    "'mediumturquoise':      '#48D1CC',\n",
    "'mediumvioletred':      '#C71585',\n",
    "'midnightblue':         '#191970',\n",
    "'mintcream':            '#F5FFFA',\n",
    "'mistyrose':            '#FFE4E1',\n",
    "'moccasin':             '#FFE4B5',\n",
    "'navajowhite':          '#FFDEAD',\n",
    "'navy':                 '#000080',\n",
    "'oldlace':              '#FDF5E6',\n",
    "'olive':                '#808000',\n",
    "'olivedrab':            '#6B8E23',\n",
    "'orange':               '#FFA500',\n",
    "'orangered':            '#FF4500',\n",
    "'orchid':               '#DA70D6',\n",
    "'palegoldenrod':        '#EEE8AA',\n",
    "'palegreen':            '#98FB98',\n",
    "'paleturquoise':        '#AFEEEE',\n",
    "'palevioletred':        '#DB7093',\n",
    "'papayawhip':           '#FFEFD5',\n",
    "'peachpuff':            '#FFDAB9',\n",
    "'peru':                 '#CD853F',\n",
    "'pink':                 '#FFC0CB',\n",
    "'plum':                 '#DDA0DD',\n",
    "'powderblue':           '#B0E0E6',\n",
    "'purple':               '#800080',\n",
    "'red':                  '#FF0000',\n",
    "'rosybrown':            '#BC8F8F',\n",
    "'royalblue':            '#4169E1',\n",
    "'saddlebrown':          '#8B4513',\n",
    "'salmon':               '#FA8072',\n",
    "'sandybrown':           '#FAA460',\n",
    "'seagreen':             '#2E8B57',\n",
    "'seashell':             '#FFF5EE',\n",
    "'sienna':               '#A0522D',\n",
    "'silver':               '#C0C0C0',\n",
    "'skyblue':              '#87CEEB',\n",
    "'slateblue':            '#6A5ACD',\n",
    "'slategray':            '#708090',\n",
    "'snow':                 '#FFFAFA',\n",
    "'springgreen':          '#00FF7F',\n",
    "'steelblue':            '#4682B4',\n",
    "'tan':                  '#D2B48C',\n",
    "'teal':                 '#008080',\n",
    "'thistle':              '#D8BFD8',\n",
    "'tomato':               '#FF6347',\n",
    "'turquoise':            '#40E0D0',\n",
    "'violet':               '#EE82EE',\n",
    "'wheat':                '#F5DEB3',\n",
    "'white':                '#FFFFFF',\n",
    "'whitesmoke':           '#F5F5F5',\n",
    "'yellow':               '#FFFF00',\n",
    "'yellowgreen':          '#9ACD32'}\n",
    "colors=[key for key in colors.keys()]"
   ]
  },
  {
   "cell_type": "code",
   "execution_count": 2,
   "metadata": {
    "collapsed": false,
    "scrolled": false
   },
   "outputs": [
    {
     "ename": "IOError",
     "evalue": "File zip_codes_states.csv does not exist",
     "output_type": "error",
     "traceback": [
      "\u001b[1;31m---------------------------------------------------------------------------\u001b[0m",
      "\u001b[1;31mIOError\u001b[0m                                   Traceback (most recent call last)",
      "\u001b[1;32m<ipython-input-2-0d39fbe55f4e>\u001b[0m in \u001b[0;36m<module>\u001b[1;34m()\u001b[0m\n\u001b[0;32m      6\u001b[0m \u001b[0mloandict\u001b[0m\u001b[1;33m=\u001b[0m\u001b[0mpd\u001b[0m\u001b[1;33m.\u001b[0m\u001b[0mread_hdf\u001b[0m\u001b[1;33m(\u001b[0m\u001b[1;34m'lending_club_data.h5'\u001b[0m\u001b[1;33m,\u001b[0m\u001b[1;34m'loandict'\u001b[0m\u001b[1;33m)\u001b[0m\u001b[1;33m\u001b[0m\u001b[0m\n\u001b[0;32m      7\u001b[0m \u001b[0mloandata\u001b[0m\u001b[1;33m=\u001b[0m\u001b[0mpd\u001b[0m\u001b[1;33m.\u001b[0m\u001b[0mread_hdf\u001b[0m\u001b[1;33m(\u001b[0m\u001b[1;34m'lending_club_data.h5'\u001b[0m\u001b[1;33m,\u001b[0m\u001b[1;34m'loandata'\u001b[0m\u001b[1;33m)\u001b[0m\u001b[1;33m\u001b[0m\u001b[0m\n\u001b[1;32m----> 8\u001b[1;33m \u001b[0mzipcodes\u001b[0m\u001b[1;33m=\u001b[0m\u001b[0mpd\u001b[0m\u001b[1;33m.\u001b[0m\u001b[0mread_csv\u001b[0m\u001b[1;33m(\u001b[0m\u001b[1;34m'zip_codes_states.csv'\u001b[0m\u001b[1;33m)\u001b[0m\u001b[1;33m\u001b[0m\u001b[0m\n\u001b[0m",
      "\u001b[1;32m/home/venkat/anaconda2/lib/python2.7/site-packages/pandas/io/parsers.pyc\u001b[0m in \u001b[0;36mparser_f\u001b[1;34m(filepath_or_buffer, sep, delimiter, header, names, index_col, usecols, squeeze, prefix, mangle_dupe_cols, dtype, engine, converters, true_values, false_values, skipinitialspace, skiprows, skipfooter, nrows, na_values, keep_default_na, na_filter, verbose, skip_blank_lines, parse_dates, infer_datetime_format, keep_date_col, date_parser, dayfirst, iterator, chunksize, compression, thousands, decimal, lineterminator, quotechar, quoting, escapechar, comment, encoding, dialect, tupleize_cols, error_bad_lines, warn_bad_lines, skip_footer, doublequote, delim_whitespace, as_recarray, compact_ints, use_unsigned, low_memory, buffer_lines, memory_map, float_precision)\u001b[0m\n\u001b[0;32m    527\u001b[0m                     skip_blank_lines=skip_blank_lines)\n\u001b[0;32m    528\u001b[0m \u001b[1;33m\u001b[0m\u001b[0m\n\u001b[1;32m--> 529\u001b[1;33m         \u001b[1;32mreturn\u001b[0m \u001b[0m_read\u001b[0m\u001b[1;33m(\u001b[0m\u001b[0mfilepath_or_buffer\u001b[0m\u001b[1;33m,\u001b[0m \u001b[0mkwds\u001b[0m\u001b[1;33m)\u001b[0m\u001b[1;33m\u001b[0m\u001b[0m\n\u001b[0m\u001b[0;32m    530\u001b[0m \u001b[1;33m\u001b[0m\u001b[0m\n\u001b[0;32m    531\u001b[0m     \u001b[0mparser_f\u001b[0m\u001b[1;33m.\u001b[0m\u001b[0m__name__\u001b[0m \u001b[1;33m=\u001b[0m \u001b[0mname\u001b[0m\u001b[1;33m\u001b[0m\u001b[0m\n",
      "\u001b[1;32m/home/venkat/anaconda2/lib/python2.7/site-packages/pandas/io/parsers.pyc\u001b[0m in \u001b[0;36m_read\u001b[1;34m(filepath_or_buffer, kwds)\u001b[0m\n\u001b[0;32m    293\u001b[0m \u001b[1;33m\u001b[0m\u001b[0m\n\u001b[0;32m    294\u001b[0m     \u001b[1;31m# Create the parser.\u001b[0m\u001b[1;33m\u001b[0m\u001b[1;33m\u001b[0m\u001b[0m\n\u001b[1;32m--> 295\u001b[1;33m     \u001b[0mparser\u001b[0m \u001b[1;33m=\u001b[0m \u001b[0mTextFileReader\u001b[0m\u001b[1;33m(\u001b[0m\u001b[0mfilepath_or_buffer\u001b[0m\u001b[1;33m,\u001b[0m \u001b[1;33m**\u001b[0m\u001b[0mkwds\u001b[0m\u001b[1;33m)\u001b[0m\u001b[1;33m\u001b[0m\u001b[0m\n\u001b[0m\u001b[0;32m    296\u001b[0m \u001b[1;33m\u001b[0m\u001b[0m\n\u001b[0;32m    297\u001b[0m     \u001b[1;32mif\u001b[0m \u001b[1;33m(\u001b[0m\u001b[0mnrows\u001b[0m \u001b[1;32mis\u001b[0m \u001b[1;32mnot\u001b[0m \u001b[0mNone\u001b[0m\u001b[1;33m)\u001b[0m \u001b[1;32mand\u001b[0m \u001b[1;33m(\u001b[0m\u001b[0mchunksize\u001b[0m \u001b[1;32mis\u001b[0m \u001b[1;32mnot\u001b[0m \u001b[0mNone\u001b[0m\u001b[1;33m)\u001b[0m\u001b[1;33m:\u001b[0m\u001b[1;33m\u001b[0m\u001b[0m\n",
      "\u001b[1;32m/home/venkat/anaconda2/lib/python2.7/site-packages/pandas/io/parsers.pyc\u001b[0m in \u001b[0;36m__init__\u001b[1;34m(self, f, engine, **kwds)\u001b[0m\n\u001b[0;32m    610\u001b[0m             \u001b[0mself\u001b[0m\u001b[1;33m.\u001b[0m\u001b[0moptions\u001b[0m\u001b[1;33m[\u001b[0m\u001b[1;34m'has_index_names'\u001b[0m\u001b[1;33m]\u001b[0m \u001b[1;33m=\u001b[0m \u001b[0mkwds\u001b[0m\u001b[1;33m[\u001b[0m\u001b[1;34m'has_index_names'\u001b[0m\u001b[1;33m]\u001b[0m\u001b[1;33m\u001b[0m\u001b[0m\n\u001b[0;32m    611\u001b[0m \u001b[1;33m\u001b[0m\u001b[0m\n\u001b[1;32m--> 612\u001b[1;33m         \u001b[0mself\u001b[0m\u001b[1;33m.\u001b[0m\u001b[0m_make_engine\u001b[0m\u001b[1;33m(\u001b[0m\u001b[0mself\u001b[0m\u001b[1;33m.\u001b[0m\u001b[0mengine\u001b[0m\u001b[1;33m)\u001b[0m\u001b[1;33m\u001b[0m\u001b[0m\n\u001b[0m\u001b[0;32m    613\u001b[0m \u001b[1;33m\u001b[0m\u001b[0m\n\u001b[0;32m    614\u001b[0m     \u001b[1;32mdef\u001b[0m \u001b[0m_get_options_with_defaults\u001b[0m\u001b[1;33m(\u001b[0m\u001b[0mself\u001b[0m\u001b[1;33m,\u001b[0m \u001b[0mengine\u001b[0m\u001b[1;33m)\u001b[0m\u001b[1;33m:\u001b[0m\u001b[1;33m\u001b[0m\u001b[0m\n",
      "\u001b[1;32m/home/venkat/anaconda2/lib/python2.7/site-packages/pandas/io/parsers.pyc\u001b[0m in \u001b[0;36m_make_engine\u001b[1;34m(self, engine)\u001b[0m\n\u001b[0;32m    745\u001b[0m     \u001b[1;32mdef\u001b[0m \u001b[0m_make_engine\u001b[0m\u001b[1;33m(\u001b[0m\u001b[0mself\u001b[0m\u001b[1;33m,\u001b[0m \u001b[0mengine\u001b[0m\u001b[1;33m=\u001b[0m\u001b[1;34m'c'\u001b[0m\u001b[1;33m)\u001b[0m\u001b[1;33m:\u001b[0m\u001b[1;33m\u001b[0m\u001b[0m\n\u001b[0;32m    746\u001b[0m         \u001b[1;32mif\u001b[0m \u001b[0mengine\u001b[0m \u001b[1;33m==\u001b[0m \u001b[1;34m'c'\u001b[0m\u001b[1;33m:\u001b[0m\u001b[1;33m\u001b[0m\u001b[0m\n\u001b[1;32m--> 747\u001b[1;33m             \u001b[0mself\u001b[0m\u001b[1;33m.\u001b[0m\u001b[0m_engine\u001b[0m \u001b[1;33m=\u001b[0m \u001b[0mCParserWrapper\u001b[0m\u001b[1;33m(\u001b[0m\u001b[0mself\u001b[0m\u001b[1;33m.\u001b[0m\u001b[0mf\u001b[0m\u001b[1;33m,\u001b[0m \u001b[1;33m**\u001b[0m\u001b[0mself\u001b[0m\u001b[1;33m.\u001b[0m\u001b[0moptions\u001b[0m\u001b[1;33m)\u001b[0m\u001b[1;33m\u001b[0m\u001b[0m\n\u001b[0m\u001b[0;32m    748\u001b[0m         \u001b[1;32melse\u001b[0m\u001b[1;33m:\u001b[0m\u001b[1;33m\u001b[0m\u001b[0m\n\u001b[0;32m    749\u001b[0m             \u001b[1;32mif\u001b[0m \u001b[0mengine\u001b[0m \u001b[1;33m==\u001b[0m \u001b[1;34m'python'\u001b[0m\u001b[1;33m:\u001b[0m\u001b[1;33m\u001b[0m\u001b[0m\n",
      "\u001b[1;32m/home/venkat/anaconda2/lib/python2.7/site-packages/pandas/io/parsers.pyc\u001b[0m in \u001b[0;36m__init__\u001b[1;34m(self, src, **kwds)\u001b[0m\n\u001b[0;32m   1117\u001b[0m         \u001b[0mkwds\u001b[0m\u001b[1;33m[\u001b[0m\u001b[1;34m'allow_leading_cols'\u001b[0m\u001b[1;33m]\u001b[0m \u001b[1;33m=\u001b[0m \u001b[0mself\u001b[0m\u001b[1;33m.\u001b[0m\u001b[0mindex_col\u001b[0m \u001b[1;32mis\u001b[0m \u001b[1;32mnot\u001b[0m \u001b[0mFalse\u001b[0m\u001b[1;33m\u001b[0m\u001b[0m\n\u001b[0;32m   1118\u001b[0m \u001b[1;33m\u001b[0m\u001b[0m\n\u001b[1;32m-> 1119\u001b[1;33m         \u001b[0mself\u001b[0m\u001b[1;33m.\u001b[0m\u001b[0m_reader\u001b[0m \u001b[1;33m=\u001b[0m \u001b[0m_parser\u001b[0m\u001b[1;33m.\u001b[0m\u001b[0mTextReader\u001b[0m\u001b[1;33m(\u001b[0m\u001b[0msrc\u001b[0m\u001b[1;33m,\u001b[0m \u001b[1;33m**\u001b[0m\u001b[0mkwds\u001b[0m\u001b[1;33m)\u001b[0m\u001b[1;33m\u001b[0m\u001b[0m\n\u001b[0m\u001b[0;32m   1120\u001b[0m \u001b[1;33m\u001b[0m\u001b[0m\n\u001b[0;32m   1121\u001b[0m         \u001b[1;31m# XXX\u001b[0m\u001b[1;33m\u001b[0m\u001b[1;33m\u001b[0m\u001b[0m\n",
      "\u001b[1;32mpandas/parser.pyx\u001b[0m in \u001b[0;36mpandas.parser.TextReader.__cinit__ (pandas/parser.c:3246)\u001b[1;34m()\u001b[0m\n",
      "\u001b[1;32mpandas/parser.pyx\u001b[0m in \u001b[0;36mpandas.parser.TextReader._setup_parser_source (pandas/parser.c:6111)\u001b[1;34m()\u001b[0m\n",
      "\u001b[1;31mIOError\u001b[0m: File zip_codes_states.csv does not exist"
     ]
    }
   ],
   "source": [
    "# loandict=pd.read_excel(os.path.join('lending-club-loan-data','LCDataDictionary.xlsx'))\n",
    "# loandata=pd.read_csv(os.path.join('lending-club-loan-data','loan.csv'))\n",
    "# loandict.to_hdf('lending_club_data.h5','loandict',complevel=9,complib='zlib')\n",
    "# loandata.to_hdf('lending_club_data.h5','loandata',complevel=9,complib='zlib')\n",
    "\n",
    "loandict=pd.read_hdf('lending_club_data.h5','loandict')\n",
    "loandata=pd.read_hdf('lending_club_data.h5','loandata')\n",
    "zipcodes=pd.read_csv('zip_codes_states.csv')\n"
   ]
  },
  {
   "cell_type": "code",
   "execution_count": null,
   "metadata": {
    "collapsed": false,
    "scrolled": false
   },
   "outputs": [],
   "source": [
    "loandict"
   ]
  },
  {
   "cell_type": "code",
   "execution_count": null,
   "metadata": {
    "collapsed": false
   },
   "outputs": [],
   "source": [
    "sorted(loandata.columns.tolist())"
   ]
  },
  {
   "cell_type": "markdown",
   "metadata": {
    "collapsed": true
   },
   "source": [
    " <h2> Grouping of Variables into Input (Cause) and Output (effect) </h2>"
   ]
  },
  {
   "cell_type": "code",
   "execution_count": null,
   "metadata": {
    "collapsed": false
   },
   "outputs": [],
   "source": [
    "\n",
    "\n",
    "output_variables= [ 'int_rate', 'grade', 'sub_grade','loan_status','funded_amnt','funded_amnt_inv' ]\n",
    "\n",
    "\n",
    "credit_variables=[  \n",
    "                    'emp_title',\n",
    "                    'emp_title',\n",
    "                    'emp_length',\n",
    "                    'home_ownership',\n",
    "                    'annual_inc',\n",
    "                    'dti',\n",
    "                    'delinq_2yrs',\n",
    "                    'inq_last_6mths',\n",
    "                    'mths_since_last_delinq',\n",
    "                    'mths_since_last_record',\n",
    "                    'open_acc',\n",
    "                    'pub_rec',\n",
    "                    'revol_bal',\n",
    "                    'revol_util',\n",
    "                    'total_acc',\n",
    "                    'inq_last_12m',\n",
    "                    'earliest_cr_line',\n",
    "                  \n",
    "                  ]\n",
    "\n",
    "other_input_variables=[\n",
    "                    'desc', \n",
    "                    'zip_code', \n",
    "                    'purpose',\n",
    "                    'title',\n",
    "                    'zip_code',\n",
    "                    'addr_state',\n",
    "                    'loan_amnt'\n",
    "                    'term'\n",
    "                ]\n",
    "    \n",
    "    \n",
    "\n"
   ]
  },
  {
   "cell_type": "code",
   "execution_count": 5,
   "metadata": {
    "collapsed": false,
    "scrolled": true
   },
   "outputs": [],
   "source": [
    "loandata.iloc[0:30000]['annual_inc'].to_frame().to_excel('Income_data_loans.xls',header=False,index=False)"
   ]
  },
  {
   "cell_type": "markdown",
   "metadata": {},
   "source": [
    "<h3> Insights into the data </h3>"
   ]
  },
  {
   "cell_type": "code",
   "execution_count": null,
   "metadata": {
    "collapsed": false
   },
   "outputs": [],
   "source": [
    "plt.figure()\n",
    "loandata['annual_inc'].plot(bins=np.arange(0,200000,10000),kind='hist',color='b',alpha=0.4)\n",
    "plt.figure()\n",
    "loandata['funded_amnt'].plot(bins=np.arange(0,50000,2000),kind='hist',color='r',alpha=0.4)"
   ]
  },
  {
   "cell_type": "code",
   "execution_count": null,
   "metadata": {
    "collapsed": false
   },
   "outputs": [],
   "source": [
    "loandata['Income2fundamnt']=loandata['annual_inc']/loandata['funded_amnt']\n",
    "df=loandata[['funded_amnt','Income2fundamnt','purpose','annual_inc']].groupby('purpose').agg({\n",
    "                                                                'funded_amnt':['count','mean']\n",
    "                                                                ,'annual_inc':['mean','min','max']\n",
    "                                                                ,'Income2fundamnt':['mean','min','max']})\n",
    "# df.rename(columns={'funded_amnt':'count'},inplace=True)\n",
    "df['freq']=df['funded_amnt']['count'].copy()\n",
    "df['funded_amnt_mean']=df['funded_amnt']['mean'].copy()\n",
    "df['annual_inc_mean']=df['annual_inc']['mean'].copy()\n",
    "df['annual_inc_min']=df['annual_inc']['min'].copy()\n",
    "df['annual_inc_max']=df['annual_inc']['max'].copy()\n",
    "df['Income2fundamnt_mean']=df['Income2fundamnt']['mean'].copy()\n",
    "df['Income2fundamnt_min']=df['Income2fundamnt']['min'].copy()\n",
    "df['Income2fundamnt_max']=df['Income2fundamnt']['max'].copy()\n",
    "plt.figure()\n",
    "df[['freq','annual_inc_mean']].sort_values(by=['freq']).plot.bar()\n",
    "plt.figure()\n",
    "df[['funded_amnt_mean','annual_inc_mean']].sort_values(by=['annual_inc_mean']).plot.bar()\n",
    "plt.figure()\n",
    "df[['Income2fundamnt_mean']].sort_values(by=['Income2fundamnt_mean']).plot.bar()\n",
    "plt.figure\n",
    "loandata.boxplot(vert=False,column=['funded_amnt'],by='purpose',rot=0)\n",
    "plt.figure\n",
    "loandata.boxplot(vert=False,column=['annual_inc'],by='purpose',rot=0)"
   ]
  },
  {
   "cell_type": "code",
   "execution_count": null,
   "metadata": {
    "collapsed": false,
    "scrolled": false
   },
   "outputs": [],
   "source": [
    "loandata['Income2fundamnt']=loandata['annual_inc']/loandata['funded_amnt']\n",
    "df=loandata[['funded_amnt','Income2fundamnt','loan_status','annual_inc']].groupby('loan_status').agg({\n",
    "                                                                'funded_amnt':['count','mean']\n",
    "                                                                ,'annual_inc':['mean','min','max']\n",
    "                                                                ,'Income2fundamnt':['mean','min','max']})\n",
    "# df.rename(columns={'funded_amnt':'count'},inplace=True)\n",
    "df['freq']=df['funded_amnt']['count'].copy()\n",
    "df['funded_amnt_mean']=df['funded_amnt']['mean'].copy()\n",
    "df['annual_inc_mean']=df['annual_inc']['mean'].copy()\n",
    "df['annual_inc_min']=df['annual_inc']['min'].copy()\n",
    "df['annual_inc_max']=df['annual_inc']['max'].copy()\n",
    "df['Income2fundamnt_mean']=df['Income2fundamnt']['mean'].copy()\n",
    "df['Income2fundamnt_min']=df['Income2fundamnt']['min'].copy()\n",
    "df['Income2fundamnt_max']=df['Income2fundamnt']['max'].copy()\n",
    "plt.figure()\n",
    "df[['freq','annual_inc_mean']].sort_values(by=['freq']).plot.bar()\n",
    "plt.figure()\n",
    "df[['funded_amnt_mean','annual_inc_mean']].sort_values(by=['annual_inc_mean']).plot.bar()\n",
    "plt.figure()\n",
    "df[['Income2fundamnt_mean']].sort_values(by=['Income2fundamnt_mean']).plot.bar()\n",
    "plt.figure\n",
    "loandata.boxplot(vert=False,column=['funded_amnt'],by='loan_status',rot=0)\n",
    "plt.figure\n",
    "loandata.boxplot(vert=False,column=['annual_inc'],by='loan_status',rot=0)\n",
    "plt.xlim([1000,500000])\n",
    "plt.figure\n",
    "loandata.boxplot(vert=False,column=['annual_inc'],by=['purpose','loan_status'],rot=0,figsize=(10,30))\n",
    "plt.xlim([1000,500000])\n",
    "plt.figure\n",
    "loandata.boxplot(vert=False,column=['funded_amnt'],by=['purpose','loan_status'],rot=0,figsize=(10,30))"
   ]
  },
  {
   "cell_type": "code",
   "execution_count": null,
   "metadata": {
    "collapsed": false
   },
   "outputs": [],
   "source": [
    "loandata['Income2fundamnt']=loandata['annual_inc']/loandata['funded_amnt']\n",
    "df=loandata[['funded_amnt','Income2fundamnt','grade','annual_inc']].groupby('grade').agg({\n",
    "                                                                'funded_amnt':['count','mean']\n",
    "                                                                ,'annual_inc':['mean','min','max']\n",
    "                                                                ,'Income2fundamnt':['mean','min','max']})\n",
    "# df.rename(columns={'funded_amnt':'count'},inplace=True)\n",
    "df['freq']=df['funded_amnt']['count'].copy()\n",
    "df['funded_amnt_mean']=df['funded_amnt']['mean'].copy()\n",
    "df['annual_inc_mean']=df['annual_inc']['mean'].copy()\n",
    "df['annual_inc_min']=df['annual_inc']['min'].copy()\n",
    "df['annual_inc_max']=df['annual_inc']['max'].copy()\n",
    "df['Income2fundamnt_mean']=df['Income2fundamnt']['mean'].copy()\n",
    "df['Income2fundamnt_min']=df['Income2fundamnt']['min'].copy()\n",
    "df['Income2fundamnt_max']=df['Income2fundamnt']['max'].copy()\n",
    "plt.figure()\n",
    "df[['freq','annual_inc_mean']].sort_values(by=['freq']).plot.bar()\n",
    "plt.figure()\n",
    "df[['funded_amnt_mean','annual_inc_mean']].sort_values(by=['annual_inc_mean']).plot.bar()\n",
    "plt.figure()\n",
    "df[['Income2fundamnt_mean']].sort_values(by=['Income2fundamnt_mean']).plot.bar()\n",
    "plt.figure\n",
    "loandata.boxplot(vert=False,column=['funded_amnt'],by='grade',rot=0)\n",
    "plt.figure\n",
    "loandata.boxplot(vert=False,column=['annual_inc'],by='grade',rot=0)\n",
    "plt.figure\n",
    "loandata.boxplot(vert=False,column=['funded_amnt'],by=['grade'],rot=0)"
   ]
  },
  {
   "cell_type": "code",
   "execution_count": null,
   "metadata": {
    "collapsed": false,
    "scrolled": false
   },
   "outputs": [],
   "source": [
    "loandata['Income2fundamnt']=loandata['annual_inc']/loandata['funded_amnt']\n",
    "df=loandata[['funded_amnt','Income2fundamnt','addr_state','annual_inc']].groupby('addr_state').agg({\n",
    "                                                                'funded_amnt':['count','mean']\n",
    "                                                                ,'annual_inc':['mean','min','max']\n",
    "                                                                ,'Income2fundamnt':['mean','min','max']})\n",
    "# df.rename(columns={'funded_amnt':'count'},inplace=True)\n",
    "df['freq']=df['funded_amnt']['count'].copy()\n",
    "df['funded_amnt_mean']=df['funded_amnt']['mean'].copy()\n",
    "df['annual_inc_mean']=df['annual_inc']['mean'].copy()\n",
    "df['annual_inc_min']=df['annual_inc']['min'].copy()\n",
    "df['annual_inc_max']=df['annual_inc']['max'].copy()\n",
    "df['Income2fundamnt_mean']=df['Income2fundamnt']['mean'].copy()\n",
    "df['Income2fundamnt_min']=df['Income2fundamnt']['min'].copy()\n",
    "df['Income2fundamnt_max']=df['Income2fundamnt']['max'].copy()\n",
    "plt.figure()\n",
    "df[['freq','annual_inc_mean']].sort_values(by=['freq']).plot.bar(figsize=(20,10))\n",
    "plt.figure()\n",
    "df[['funded_amnt_mean','annual_inc_mean']].sort_values(by=['annual_inc_mean']).plot.bar()\n",
    "plt.figure()\n",
    "df[['Income2fundamnt_mean']].sort_values(by=['Income2fundamnt_mean']).plot.bar()\n",
    "plt.figure\n",
    "loandata.boxplot(vert=False,figsize=(10,10),column=['funded_amnt'],by='addr_state',rot=0)\n",
    "plt.figure\n",
    "loandata.boxplot(vert=False,figsize=(10,10),column=['annual_inc'],by='addr_state',rot=0)"
   ]
  },
  {
   "cell_type": "markdown",
   "metadata": {
    "collapsed": true
   },
   "source": [
    "<h3> What effects the interest rates </h3>"
   ]
  },
  {
   "cell_type": "code",
   "execution_count": null,
   "metadata": {
    "collapsed": false
   },
   "outputs": [],
   "source": [
    "plt.figure()\n",
    "loandata.boxplot(column='int_rate',by='sub_grade',rot=90)\n",
    "plt.show()        "
   ]
  },
  {
   "cell_type": "markdown",
   "metadata": {},
   "source": [
    "<h3> What effects the loan Status </h3>"
   ]
  },
  {
   "cell_type": "code",
   "execution_count": null,
   "metadata": {
    "collapsed": false,
    "scrolled": false
   },
   "outputs": [],
   "source": [
    "# Q1: Loan Status vs funded amount\n",
    "# %matplotlib inline\n",
    "loan_status=loandata['loan_status'].unique()\n",
    "for i in range(len(loan_status)):\n",
    "    df=loandata[loandata['loan_status']==loan_status[i]]\n",
    "    plt.figure()\n",
    "    df['funded_amnt'].plot(bins=np.arange(0,50000,2000),kind='hist',color='r',alpha=0.4)\n",
    "    df[df['grade']=='A']['funded_amnt'].plot(bins=np.arange(0,50000,2000),kind='hist',color='b',alpha=0.4)\n",
    "    plt.title(loan_status[i])\n",
    "    \n",
    "plt.show()\n",
    "\n"
   ]
  },
  {
   "cell_type": "markdown",
   "metadata": {},
   "source": [
    "<h3> Perspective from Borrower</h3>\n",
    "A borrower is concerned about what interest rate he would get and what sub-grade will he be in. \n",
    "<h3> Perspective from Investor</h3>\n",
    "The investor is concerned about the default risk of a note/loan/borrower.\n",
    "\n",
    "<h2> Use data to support or debunk the following <font color=\"blue\">Hypothesis</font> </h2>\n",
    "\n",
    "<ol>\n",
    "<li>Your FICO Score decides which Sub-grade you are in.   </li>\n",
    "<li>Your Sub-grade decides your interest rate   </li>\n",
    "<li>Funded amount/requested amount does not necessarily decide which sub-grade you are assigned  </li>\n",
    "<li>Your requested/funded_amnt effects your int_rate: lower the funded amount lower the interest rate  </li>\n",
    "</ol>"
   ]
  },
  {
   "cell_type": "code",
   "execution_count": null,
   "metadata": {
    "collapsed": false
   },
   "outputs": [],
   "source": [
    "# interest rate distribution among the classes\n",
    "plt.figure()\n",
    "loandata.boxplot(column='int_rate',by='sub_grade')\n",
    "\n",
    "plt.figure()\n",
    "loandata.boxplot(column='funded_amnt',by='sub_grade')\n",
    "\n",
    "plt.figure()\n",
    "df=loandata[loandata['sub_grade']=='E1']\n",
    "plt.plot(df['int_rate'],df['funded_amnt'],'b',linestyle='',marker='o')\n",
    "\n",
    "\n",
    "plt.show()\n"
   ]
  },
  {
   "cell_type": "code",
   "execution_count": null,
   "metadata": {
    "collapsed": false
   },
   "outputs": [],
   "source": [
    "plt.figure()\n",
    "loandata[loandata['sub_grade']=='E1']['funded_amnt'].plot(bins=np.arange(0,50000,2000),\n",
    "                                                          kind='hist',\n",
    "                                                          color='b',\n",
    "                                                          alpha=0.4)\n",
    "\n",
    "plt.figure()\n",
    "loandata[(loandata['sub_grade']=='E1') & (loandata['funded_amnt']<=10000)]['int_rate'].plot(bins=np.arange(10,30,),\n",
    "                                                       kind='hist',\n",
    "                                                       color='r',\n",
    "                                                       alpha=0.4) \n",
    "plt.figure()\n",
    "loandata[(loandata['sub_grade']=='E1') & (loandata['funded_amnt']>10000)]['int_rate'].plot(bins=np.arange(10,30,),\n",
    "                                                       kind='hist',\n",
    "                                                       color='b',\n",
    "                                                       alpha=0.4)\n",
    "\n",
    "plt.show()\n"
   ]
  },
  {
   "cell_type": "code",
   "execution_count": null,
   "metadata": {
    "collapsed": false,
    "scrolled": false
   },
   "outputs": [],
   "source": [
    "loan_status=loandata['loan_status'].unique()\n",
    "for i in range(len(loan_status)):\n",
    "    plt.figure()\n",
    "    loandata[loandata['loan_status']==loan_status[i]].boxplot(column='funded_amnt',by='sub_grade')\n",
    "    plt.title(loan_status[i])\n",
    "    plt.show()"
   ]
  },
  {
   "cell_type": "code",
   "execution_count": null,
   "metadata": {
    "collapsed": false
   },
   "outputs": [],
   "source": []
  },
  {
   "cell_type": "code",
   "execution_count": null,
   "metadata": {
    "collapsed": false
   },
   "outputs": [],
   "source": [
    "plt.figure()\n",
    "loandata.boxplot(column='int_rate',by='loan_status',rot=90)\n",
    "plt.show()\n",
    "\n",
    "\n"
   ]
  },
  {
   "cell_type": "code",
   "execution_count": null,
   "metadata": {
    "collapsed": false
   },
   "outputs": [],
   "source": [
    "plt.figure()\n",
    "loandata.boxplot(column='funded_amnt',by='grade',rot=90)\n",
    "plt.show()"
   ]
  },
  {
   "cell_type": "code",
   "execution_count": null,
   "metadata": {
    "collapsed": false
   },
   "outputs": [],
   "source": [
    "plt.figure()\n",
    "loandata.boxplot(column='inq_last_6mths',by='loan_status',rot=90)\n",
    "plt.show()\n"
   ]
  },
  {
   "cell_type": "code",
   "execution_count": null,
   "metadata": {
    "collapsed": false
   },
   "outputs": [],
   "source": [
    "\n",
    "plt.figure()\n",
    "loandata.boxplot(column='dti',by='loan_status',rot=90)\n",
    "plt.show()"
   ]
  },
  {
   "cell_type": "code",
   "execution_count": null,
   "metadata": {
    "collapsed": false
   },
   "outputs": [],
   "source": [
    "plt.figure()\n",
    "loandata.boxplot(column='dti',by='grade',rot=90)\n",
    "loandata.boxplot(column='inq_last_6mths',by='grade',rot=90)\n",
    "loandata.boxplot(column='revol_bal',by='grade',rot=90)\n",
    "\n",
    "plt.show()"
   ]
  },
  {
   "cell_type": "code",
   "execution_count": null,
   "metadata": {
    "collapsed": false
   },
   "outputs": [],
   "source": [
    "plt.figure()\n",
    "loandata.boxplot(column='int_rate',by='purpose',rot=90)\n",
    "plt.show()"
   ]
  },
  {
   "cell_type": "code",
   "execution_count": null,
   "metadata": {
    "collapsed": false
   },
   "outputs": [],
   "source": [
    "plt.figure()\n",
    "loandata.boxplot(column='funded_amnt',by='purpose',rot=90)\n",
    "plt.show()"
   ]
  },
  {
   "cell_type": "code",
   "execution_count": null,
   "metadata": {
    "collapsed": false
   },
   "outputs": [],
   "source": [
    "plt.figure()\n",
    "loandata.boxplot(column='int_rate',by='inq_last_6mths',rot=90)\n",
    "loandata.boxplot(column='int_rate',by='inq_last_12m',rot=90)\n",
    "plt.show()"
   ]
  },
  {
   "cell_type": "code",
   "execution_count": null,
   "metadata": {
    "collapsed": false,
    "scrolled": false
   },
   "outputs": [],
   "source": [
    "# plt.figure()\n",
    "# loandata.boxplot(column='int_rate',by='inq_last_6mths',rot=90)\n",
    "for i in range(len(loan_status)):\n",
    "    plt.figure()\n",
    "    df=loandata[(loandata['term']==' 36 months') & (loandata['loan_status']==loan_status[i])]\n",
    "    plt.title(loan_status[i])\n",
    "    plt.scatter(df['funded_amnt'], df['int_rate'],color=colors[i]);\n",
    "plt.show"
   ]
  },
  {
   "cell_type": "code",
   "execution_count": null,
   "metadata": {
    "collapsed": false
   },
   "outputs": [],
   "source": [
    "\n",
    "plt.figure()\n",
    "df=loandata[(loandata['term']==' 36 months') & (loandata['inq_last_12m']<0)]\n",
    "plt.scatter(df['funded_amnt'], df['int_rate']);\n",
    "\n",
    "plt.figure()\n",
    "df=loandata[(loandata['term']==' 36 months') & (loandata['pub_rec']==0)]\n",
    "plt.scatter(df['funded_amnt'], df['int_rate']);\n",
    "\n",
    "plt.figure()\n",
    "df=loandata[(loandata['term']==' 36 months')]\n",
    "plt.scatter(df['revol_bal'], df['int_rate']);\n",
    "\n",
    "plt.show "
   ]
  },
  {
   "cell_type": "code",
   "execution_count": null,
   "metadata": {
    "collapsed": false,
    "scrolled": false
   },
   "outputs": [],
   "source": [
    "credit_variables=[  \n",
    "                    'emp_title',\n",
    "                    'emp_length',\n",
    "                    'home_ownership',\n",
    "                    'annual_inc',\n",
    "                    'dti',\n",
    "                    'delinq_2yrs',\n",
    "                    'inq_last_6mths',\n",
    "                    'mths_since_last_delinq',\n",
    "                    'mths_since_last_record',\n",
    "                    'open_acc',\n",
    "                    'pub_rec',\n",
    "                    'revol_bal',\n",
    "                    'revol_util',\n",
    "                    'total_acc',\n",
    "                    'inq_last_12m',\n",
    "                    'earliest_cr_line',\n",
    "                  \n",
    "                  ]\n",
    "output_variables= [ 'int_rate', 'grade', 'sub_grade','loan_status','funded_amnt_inv' ]\n",
    "\n",
    "\n",
    "\n",
    "other_input_variables=[\n",
    "                    'funded_amnt',\n",
    "                    'desc', \n",
    "                    'zip_code', \n",
    "                    'purpose',\n",
    "                    'title',\n",
    "                    'zip_code',\n",
    "                    'addr_state',\n",
    "                    'loan_amnt'\n",
    "                    'term'\n",
    "                ]\n",
    "\n"
   ]
  },
  {
   "cell_type": "markdown",
   "metadata": {},
   "source": [
    "\n",
    "\\begin{align}\n",
    "X=x+1\n",
    "\\end{align}"
   ]
  },
  {
   "cell_type": "markdown",
   "metadata": {},
   "source": [
    "\n",
    "\\begin{eqnarray}\n",
    "\\nabla \\times \\vec{\\mathbf{B}} -\\, \\frac1c\\, \\frac{\\partial\\vec{\\mathbf{E}}}{\\partial t} & = \\frac{4\\pi}{c}\\vec{\\mathbf{j}} \\\\\n",
    "\\nabla \\cdot \\vec{\\mathbf{E}} & = 4 \\pi \\rho \\\\\n",
    "\\nabla \\times \\vec{\\mathbf{E}}\\, +\\, \\frac1c\\, \\frac{\\partial\\vec{\\mathbf{B}}}{\\partial t} & = \\vec{\\mathbf{0}} \\\\\n",
    "\\nabla \\cdot \\vec{\\mathbf{B}} & = 0 \n",
    "\\end{eqnarray}\n"
   ]
  },
  {
   "cell_type": "markdown",
   "metadata": {
    "collapsed": false
   },
   "source": [
    "The Lending Club Base Rate\n",
    "\n",
    "The base rate is the starting point in determining the interest rate for each loan. As of this writing the base interest rate at Lending Club is 5.05%. Now, no borrower can actually get that rate, this is just where their calculations begin. On top of that rate is added an adjustment for risk and volatility. There is a different adjustment rate for every loan grade from A1 to G5. This adjustment is added to the base rate to determine the final interest rate.\n",
    "\n",
    "FICO Score\n",
    "\n",
    "Initially every borrower is assigned a loan grade from A1 through C5 depending on their credit score. Borrowers with FICO scores of 770 and above are an A1 down to scores of 660-663 who are assigned a C3. But this is just an initial loan grade – a borrower will likely be moved to a different grade based on the information described in the next two points.\n",
    "\n",
    "Loan amount limits\n",
    "\n",
    "I wrote a detailed post last month about loan amount limits. Basically, each loan grade has an upper limit and if the borrower goes above that limit as determined by their loan grade (based on their FICO score) then they will be penalized. For example, a B2-grade borrower has a loan limit of $7,475. If this borrower wants a $15,000 loan they will drop four loan grades to a C1 and therefore pay a higher interest rate.\n",
    "\n",
    "Other Risk Modifiers\n",
    "\n",
    "There are other risk modifiers that will also send borrowers down a grade. Number of recent credit inquiries, the length of credit history, number of open accounts (ideal is 6-21 open accounts), revolving credit utilization (ideal is 5-85%) and loan term (ideal is 36 months) are other items from a borrower’s credit report that will impact the loan grade."
   ]
  }
 ],
 "metadata": {
  "kernelspec": {
   "display_name": "Python 2",
   "language": "python",
   "name": "python2"
  },
  "language_info": {
   "codemirror_mode": {
    "name": "ipython",
    "version": 2
   },
   "file_extension": ".py",
   "mimetype": "text/x-python",
   "name": "python",
   "nbconvert_exporter": "python",
   "pygments_lexer": "ipython2",
   "version": "2.7.11"
  }
 },
 "nbformat": 4,
 "nbformat_minor": 0
}
